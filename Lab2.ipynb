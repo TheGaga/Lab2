{
 "cells": [
  {
   "cell_type": "code",
   "execution_count": 1,
   "metadata": {},
   "outputs": [
    {
     "ename": "SyntaxError",
     "evalue": "Missing parentheses in call to 'print'. Did you mean print(tree)? (<ipython-input-1-a4b2d514a864>, line 6)",
     "output_type": "error",
     "traceback": [
      "\u001b[0;36m  File \u001b[0;32m\"<ipython-input-1-a4b2d514a864>\"\u001b[0;36m, line \u001b[0;32m6\u001b[0m\n\u001b[0;31m    print tree\u001b[0m\n\u001b[0m             ^\u001b[0m\n\u001b[0;31mSyntaxError\u001b[0m\u001b[0;31m:\u001b[0m Missing parentheses in call to 'print'. Did you mean print(tree)?\n"
     ]
    }
   ],
   "source": [
    "from Bio import SeqIO\n",
    "from Bio.SeqRecord import SeqRecord\n",
    "from Bio.Seq import Seq\n",
    "\n",
    "tree = Phylo.read('tree.nwk', 'newick')\n",
    "print tree\n"
   ]
  },
  {
   "cell_type": "code",
   "execution_count": 2,
   "metadata": {},
   "outputs": [
    {
     "ename": "NameError",
     "evalue": "name 'Phylo' is not defined",
     "output_type": "error",
     "traceback": [
      "\u001b[0;31m---------------------------------------------------------------------------\u001b[0m",
      "\u001b[0;31mNameError\u001b[0m                                 Traceback (most recent call last)",
      "\u001b[0;32m<ipython-input-2-b02a3237c184>\u001b[0m in \u001b[0;36m<module>\u001b[0;34m()\u001b[0m\n\u001b[1;32m      3\u001b[0m \u001b[0;32mfrom\u001b[0m \u001b[0mBio\u001b[0m\u001b[0;34m.\u001b[0m\u001b[0mSeq\u001b[0m \u001b[0;32mimport\u001b[0m \u001b[0mSeq\u001b[0m\u001b[0;34m\u001b[0m\u001b[0m\n\u001b[1;32m      4\u001b[0m \u001b[0;34m\u001b[0m\u001b[0m\n\u001b[0;32m----> 5\u001b[0;31m \u001b[0mtree\u001b[0m \u001b[0;34m=\u001b[0m \u001b[0mPhylo\u001b[0m\u001b[0;34m.\u001b[0m\u001b[0mread\u001b[0m\u001b[0;34m(\u001b[0m\u001b[0;34m'tree.nwk'\u001b[0m\u001b[0;34m,\u001b[0m \u001b[0;34m'newick'\u001b[0m\u001b[0;34m)\u001b[0m\u001b[0;34m\u001b[0m\u001b[0m\n\u001b[0m\u001b[1;32m      6\u001b[0m \u001b[0mPhylo\u001b[0m\u001b[0;34m.\u001b[0m\u001b[0mdraw\u001b[0m\u001b[0;34m(\u001b[0m\u001b[0mtree\u001b[0m\u001b[0;34m)\u001b[0m\u001b[0;34m\u001b[0m\u001b[0m\n",
      "\u001b[0;31mNameError\u001b[0m: name 'Phylo' is not defined"
     ]
    }
   ],
   "source": [
    "from Bio import SeqIO\n",
    "from Bio.SeqRecord import SeqRecord\n",
    "from Bio.Seq import Seq\n",
    "\n",
    "tree = Phylo.read('tree.nwk', 'newick')\n",
    "Phylo.draw(tree)"
   ]
  },
  {
   "cell_type": "code",
   "execution_count": 8,
   "metadata": {},
   "outputs": [
    {
     "name": "stdout",
     "output_type": "stream",
     "text": [
      " , hu.39\n",
      " |\n",
      " | rh.50\n",
      " |\n",
      "_, rh.49\n",
      " |\n",
      " |_ rh.57\n",
      " |\n",
      " | rh.51\n",
      " |\n",
      " , rh.53\n",
      " |\n",
      " | rh.64\n",
      " |\n",
      " , rh.52\n",
      " |\n",
      " , rh.61\n",
      " |\n",
      " | __ rh.58\n",
      " ||\n",
      " ||                                                    , pi.2\n",
      " ||                  __________________________________|\n",
      " ||                 |                                  |_ pi.3\n",
      " ||                 |                                  |\n",
      " ||                 |                                  | pi.1\n",
      " ||                 |\n",
      " ||                 |                   __ hu.17\n",
      " ||              ___|                 _|\n",
      " ||             |   |                | | hu.6\n",
      " ||             |   |    ____________|\n",
      " ||             |   |   |            |  , rh.10\n",
      " ||             |   |   |            |__|\n",
      "  |             |   |   |               |, bb.1\n",
      "  |             |   |___|               ||\n",
      "  |             |       |                | bb.2\n",
      "  |             |       |\n",
      "  |             |       |       ___________ rh.2\n",
      "  |             |       |      |\n",
      "  |             |       |______|               _____ rh.40\n",
      "  |             |              |              |\n",
      "  |             |              |______________| , hu.67\n",
      "  |             |                             | |\n",
      "  |             |                             |_|, hu.37\n",
      "  |             |                               ||\n",
      "  |_____________|                               |, hu.40\n",
      "                |                                |\n",
      "                |                                | hu.66\n",
      "                |                                |\n",
      "                |                                , hu.42\n",
      "                |                                |\n",
      "                |                                , hu.41\n",
      "                |                                |\n",
      "                |                                | rh.38\n",
      "                |\n",
      "                |                ________________________ rh.43\n",
      "                |      _________|\n",
      "                |     |         |                                                                           __ hu.14\n",
      "                |     |         |__________________________________________________________________________|\n",
      "                |     |                                                                                    |     , hu.31\n",
      "                |     |                                                                                    |_____|\n",
      "                |     |                                                                                          | hu.32\n",
      "                |     |\n",
      "                |_____|                                                                   __ hu.43\n",
      "                      |              ____________________________________________________|\n",
      "                      |             |                                                    |    _ hu.48\n",
      "                      |             |                                                    |___|\n",
      "                      |             |                                                        |          , hu.44\n",
      "                      |             |                                                        |__________|\n",
      "                      |             |                                                                   |_ hu.46\n",
      "                      |             |\n",
      "                      |_____________|                       __________ cy.2\n",
      "                                    |       _______________|\n",
      "                                    |      |               |       ____ rh.54\n",
      "                                    |      |               |______|\n",
      "                                    |      |                      |           ___ rh.55\n",
      "                                    |      |                      |__________|\n",
      "                                    |      |                                 | , rh.48\n",
      "                                    |______|                                 |_|\n",
      "                                           |                                   | rh.62\n",
      "                                           |\n",
      "                                           |                             , rh.35\n",
      "                                           |                _____________|\n",
      "                                           |               |             , rh.36\n",
      "                                           |               |             |\n",
      "                                           |_______________|             | rh.37\n",
      "                                                           |\n",
      "                                                           |                         , cy.3\n",
      "                                                           |                         |\n",
      "                                                           |_________________________, cy.6\n",
      "                                                                                     |\n",
      "                                                                                     | cy.4\n",
      "                                                                                     |\n",
      "                                                                                     , cy.5\n",
      "                                                                                     |\n",
      "                                                                                     | rh.13\n",
      "\n",
      "0.9710906701708278\n"
     ]
    },
    {
     "ename": "AttributeError",
     "evalue": "'str' object has no attribute 'information_content'",
     "output_type": "error",
     "traceback": [
      "\u001b[0;31m---------------------------------------------------------------------------\u001b[0m",
      "\u001b[0;31mAttributeError\u001b[0m                            Traceback (most recent call last)",
      "\u001b[0;32m<ipython-input-8-3563b0aa744d>\u001b[0m in \u001b[0;36m<module>\u001b[0;34m()\u001b[0m\n\u001b[1;32m     31\u001b[0m \u001b[0mcheck\u001b[0m \u001b[0;34m=\u001b[0m \u001b[0;34m(\u001b[0m\u001b[0mseq\u001b[0m\u001b[0;34m.\u001b[0m\u001b[0mcount\u001b[0m\u001b[0;34m(\u001b[0m\u001b[0;34m'C'\u001b[0m\u001b[0;34m)\u001b[0m\u001b[0;34m+\u001b[0m\u001b[0mseq\u001b[0m\u001b[0;34m.\u001b[0m\u001b[0mcount\u001b[0m\u001b[0;34m(\u001b[0m\u001b[0;34m'G'\u001b[0m\u001b[0;34m)\u001b[0m\u001b[0;34m)\u001b[0m\u001b[0;34m/\u001b[0m\u001b[0mlen\u001b[0m\u001b[0;34m(\u001b[0m\u001b[0mseq\u001b[0m\u001b[0;34m)\u001b[0m\u001b[0;34m\u001b[0m\u001b[0m\n\u001b[1;32m     32\u001b[0m \u001b[0mprint\u001b[0m\u001b[0;34m(\u001b[0m\u001b[0mcheck\u001b[0m \u001b[0;34m+\u001b[0m \u001b[0mAT\u001b[0m\u001b[0;34m)\u001b[0m\u001b[0;34m\u001b[0m\u001b[0m\n\u001b[0;32m---> 33\u001b[0;31m \u001b[0mseq\u001b[0m\u001b[0;34m.\u001b[0m\u001b[0minformation_content\u001b[0m\u001b[0;34m(\u001b[0m\u001b[0mself\u001b[0m\u001b[0;34m,\u001b[0m \u001b[0mstart\u001b[0m\u001b[0;34m=\u001b[0m\u001b[0;36m0\u001b[0m\u001b[0;34m,\u001b[0m \u001b[0mend\u001b[0m\u001b[0;34m=\u001b[0m\u001b[0;32mNone\u001b[0m\u001b[0;34m,\u001b[0m \u001b[0me_freq_table\u001b[0m\u001b[0;34m=\u001b[0m\u001b[0;32mNone\u001b[0m\u001b[0;34m,\u001b[0m \u001b[0mlog_base\u001b[0m\u001b[0;34m=\u001b[0m\u001b[0;36m2\u001b[0m\u001b[0;34m,\u001b[0m \u001b[0mchars_to_ignore\u001b[0m\u001b[0;34m=\u001b[0m\u001b[0;32mNone\u001b[0m\u001b[0;34m,\u001b[0m \u001b[0mpseudo_count\u001b[0m\u001b[0;34m=\u001b[0m\u001b[0;36m0\u001b[0m\u001b[0;34m)\u001b[0m\u001b[0;34m\u001b[0m\u001b[0m\n\u001b[0m",
      "\u001b[0;31mAttributeError\u001b[0m: 'str' object has no attribute 'information_content'"
     ]
    }
   ],
   "source": [
    "from Bio import SeqIO\n",
    "from Bio.SeqRecord import SeqRecord\n",
    "from Bio.Seq import Seq\n",
    "from Bio import Phylo\n",
    "from Bio.Cluster import treecluster\n",
    "%matplotlib inline\n",
    "\n",
    "# Create tree\n",
    "tree = Phylo.read('tree.nwk', 'newick')\n",
    "tree.ladderize() \n",
    "Phylo.draw_ascii(tree, file=None, column_width =125)\n",
    "\n",
    "\n",
    "# Select one representative of each cluster - gene is dtermined using BLAST\n",
    "record_dict =  SeqIO.to_dict(SeqIO.parse('seqs.aligned.fa','fasta'))\n",
    "cluster_list = ['hu.39','pi.2','hu.17','rh.2','rh.40','rh.43','hu.14','hu.43','cy.2','rh.35','cy.3']\n",
    "\"\"\"\n",
    "## Cluster 1 - Adeno-associated virus isolate hu.39 capsid protein VP1 (cap) gene, complete cds\n",
    "print(record_dict['hu.39'].format('fasta'))\n",
    "## Cluster 2 - \n",
    "print(record_dict['pi.2'].format('fasta'))\n",
    "## Cluster 3 - hu.17\n",
    "print(record_dict['hu.39'].format('fasta'))\n",
    "\"\"\"\n",
    "\"\"\"for specimen in cluster_list:\n",
    "    print(record_dict[specimen].format('fasta'))\n",
    "\"\"\"\n",
    "seq = record_dict['hu.39'].format('fasta')\n",
    "AT = (seq.count('A')+seq.count('T'))/len(seq)\n",
    "CG = 1 - AT\n",
    "check = (seq.count('C')+seq.count('G'))/len(seq)\n",
    "print(check + AT)\n",
    "seq.information_content(self, start=0, end=None, e_freq_table=None, log_base=2, chars_to_ignore=None, pseudo_count=0)"
   ]
  },
  {
   "cell_type": "code",
   "execution_count": null,
   "metadata": {},
   "outputs": [],
   "source": []
  }
 ],
 "metadata": {
  "kernelspec": {
   "display_name": "Python 3",
   "language": "python",
   "name": "python3"
  },
  "language_info": {
   "codemirror_mode": {
    "name": "ipython",
    "version": 3
   },
   "file_extension": ".py",
   "mimetype": "text/x-python",
   "name": "python",
   "nbconvert_exporter": "python",
   "pygments_lexer": "ipython3",
   "version": "3.6.5"
  }
 },
 "nbformat": 4,
 "nbformat_minor": 2
}
